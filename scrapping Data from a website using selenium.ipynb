{
 "cells": [
  {
   "cell_type": "code",
   "execution_count": 39,
   "id": "f84db92e",
   "metadata": {},
   "outputs": [],
   "source": [
    "from selenium import webdriver\n",
    "from selenium.webdriver.common.by import By\n",
    "from selenium.webdriver.chrome.service import Service as ChromeService\n",
    "from webdriver_manager.chrome import ChromeDriverManager\n",
    "import time\n",
    "\n",
    "# Set up the WebDriver\n",
    "driver = webdriver.Chrome(service=ChromeService(ChromeDriverManager().install()))\n",
    "\n",
    "# Open GitHub\n",
    "driver.get(\"https://github.com\")\n",
    "\n",
    "# Wait for 3 seconds\n",
    "time.sleep(3)\n",
    "\n",
    "# Find the 'Sign in' button and click it\n",
    "sign_in_button = driver.find_element(By.LINK_TEXT, \"Sign in\")\n",
    "sign_in_button.click()\n",
    "\n",
    "# Wait for the sign-in page to load\n",
    "time.sleep(3)\n",
    "\n",
    "# Enter username\n",
    "username_field = driver.find_element(By.ID, \"login_field\")\n",
    "username_field.send_keys(\"your_username\")\n",
    "\n",
    "# Enter password\n",
    "password_field = driver.find_element(By.ID, \"password\")\n",
    "password_field.send_keys(\"your_password\")\n",
    "\n",
    "# Wait for 3 seconds\n",
    "time.sleep(3)\n",
    "\n",
    "# Click the 'Sign in' button to log in\n",
    "login_button = driver.find_element(By.NAME, \"commit\")\n",
    "login_button.click()\n"
   ]
  }
 ],
 "metadata": {
  "kernelspec": {
   "display_name": "Python 3 (ipykernel)",
   "language": "python",
   "name": "python3"
  },
  "language_info": {
   "codemirror_mode": {
    "name": "ipython",
    "version": 3
   },
   "file_extension": ".py",
   "mimetype": "text/x-python",
   "name": "python",
   "nbconvert_exporter": "python",
   "pygments_lexer": "ipython3",
   "version": "3.9.13"
  }
 },
 "nbformat": 4,
 "nbformat_minor": 5
}
